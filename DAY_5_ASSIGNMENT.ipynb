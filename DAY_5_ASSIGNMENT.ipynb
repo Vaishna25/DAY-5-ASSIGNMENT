{
  "nbformat": 4,
  "nbformat_minor": 0,
  "metadata": {
    "colab": {
      "name": "DAY 5 ASSIGNMENT.ipynb",
      "provenance": [],
      "authorship_tag": "ABX9TyNs5zKXtOLE9ARwZXqnVc3C",
      "include_colab_link": true
    },
    "kernelspec": {
      "name": "python3",
      "display_name": "Python 3"
    },
    "language_info": {
      "name": "python"
    }
  },
  "cells": [
    {
      "cell_type": "markdown",
      "metadata": {
        "id": "view-in-github",
        "colab_type": "text"
      },
      "source": [
        "<a href=\"https://colab.research.google.com/github/Vaishna25/DAY-5-ASSIGNMENT/blob/main/DAY_5_ASSIGNMENT.ipynb\" target=\"_parent\"><img src=\"https://colab.research.google.com/assets/colab-badge.svg\" alt=\"Open In Colab\"/></a>"
      ]
    },
    {
      "cell_type": "code",
      "metadata": {
        "id": "6iIhkSG1rUZQ"
      },
      "source": [
        "Question 1\n",
        "What is plotly?"
      ],
      "execution_count": null,
      "outputs": []
    },
    {
      "cell_type": "code",
      "metadata": {
        "id": "rTnuxnuDSTTX"
      },
      "source": [
        "The Plotly Python library is an interactive open-source library.\n",
        "This can be a very helpful tool for data visualization and understanding the data simply and easily.\n",
        "Plotly graph objects are high-level interface to plotly which are easy to use."
      ],
      "execution_count": null,
      "outputs": []
    },
    {
      "cell_type": "code",
      "metadata": {
        "id": "fpu2QRx9STXm"
      },
      "source": [
        "Question 2\n",
        "Where is plotly used?"
      ],
      "execution_count": null,
      "outputs": []
    },
    {
      "cell_type": "code",
      "metadata": {
        "id": "MlklFkYhSf7X"
      },
      "source": [
        "Plotly is used as online graphing, analytics, and statistics tools for individuals and collaboration, as well as scientific graphing libraries for Python, R, MATLAB, Perl, Julia, Arduino, and REST.\n",
        "It can plot various types of graphs and charts like scatter plots, line charts, bar charts, box plots, histograms, pie charts, etc."
      ],
      "execution_count": null,
      "outputs": []
    },
    {
      "cell_type": "code",
      "metadata": {
        "id": "L0fDZUKJtF9O"
      },
      "source": [
        "Question 3\n",
        "Plot a Pie chart of Indian Car Companies market share in %"
      ],
      "execution_count": null,
      "outputs": []
    },
    {
      "cell_type": "code",
      "metadata": {
        "id": "p2AUJ6KaSgB5"
      },
      "source": [
        " \n",
        "import numpy as np \n",
        " \n",
        "import plotly \n",
        " \n",
        "import plotly.graph_objects as go \n",
        " \n",
        "import plotly.offline as pyo \n",
        " \n",
        "from plotly.offline import init_notebook_mode"
      ],
      "execution_count": 1,
      "outputs": []
    },
    {
      "cell_type": "code",
      "metadata": {
        "colab": {
          "base_uri": "https://localhost:8080/",
          "height": 17
        },
        "id": "ajaSn2gzS2XE",
        "outputId": "240e5f30-70f0-4a6a-80b6-eb4b13e31f4b"
      },
      "source": [
        " init_notebook_mode(connected = True)"
      ],
      "execution_count": 3,
      "outputs": [
        {
          "output_type": "display_data",
          "data": {
            "text/html": [
              "        <script type=\"text/javascript\">\n",
              "        window.PlotlyConfig = {MathJaxConfig: 'local'};\n",
              "        if (window.MathJax) {MathJax.Hub.Config({SVG: {font: \"STIX-Web\"}});}\n",
              "        if (typeof require !== 'undefined') {\n",
              "        require.undef(\"plotly\");\n",
              "        requirejs.config({\n",
              "            paths: {\n",
              "                'plotly': ['https://cdn.plot.ly/plotly-latest.min']\n",
              "            }\n",
              "        });\n",
              "        require(['plotly'], function(Plotly) {\n",
              "            window._Plotly = Plotly;\n",
              "        });\n",
              "        }\n",
              "        </script>\n",
              "        "
            ]
          },
          "metadata": {
            "tags": []
          }
        }
      ]
    },
    {
      "cell_type": "code",
      "metadata": {
        "id": "F3QtRt5TS8H7"
      },
      "source": [
        "IT_Companies=['CTG','INFOYS','TCS','TECH MAHINDRA','WIPRO','DELOITTE']"
      ],
      "execution_count": 4,
      "outputs": []
    },
    {
      "cell_type": "code",
      "metadata": {
        "id": "aQdJfFdzT3PZ"
      },
      "source": [
        "Market_Share=[21.60,20.19,14.68,14.66,8.15,6.25]"
      ],
      "execution_count": null,
      "outputs": []
    },
    {
      "cell_type": "code",
      "metadata": {
        "id": "e8qNq0eJT5Tt"
      },
      "source": [
        "fig = go.Figure(data=[go.Pie(labels=IT_Companies,values=Market_Share)])\n",
        "fig.show()"
      ],
      "execution_count": null,
      "outputs": []
    },
    {
      "cell_type": "code",
      "metadata": {
        "id": "tUb8f_xWT_NH"
      },
      "source": [
        "Question 4\n",
        "plot a bar graph with covid-19 active cases(Max 10 states)"
      ],
      "execution_count": null,
      "outputs": []
    },
    {
      "cell_type": "code",
      "metadata": {
        "id": "SL7vgyffUIa5"
      },
      "source": [
        "States=['Maharashtra','Kerela','Karnataka','Tamilnadu','AndhraPradesh','UttarPradesh','West Bengal','Delhi','Chattisgarh','Rajastan']"
      ],
      "execution_count": null,
      "outputs": []
    },
    {
      "cell_type": "code",
      "metadata": {
        "id": "1uxaNoB7UMgf"
      },
      "source": [
        "Cases=[117698,110616,38752,33665,31850,1789,16143,847,4914,824]\n",
        "fig3 =go.Figure(data=go.Bar(x=States,y=Cases))\n",
        "fig3.show()"
      ],
      "execution_count": null,
      "outputs": []
    },
    {
      "cell_type": "code",
      "metadata": {
        "id": "75_BzKcCUPHH"
      },
      "source": [
        "Question 5\n",
        "Plot a line chart with Indias active covid-19 case recovery(maximum 12 momths)"
      ],
      "execution_count": null,
      "outputs": []
    },
    {
      "cell_type": "code",
      "metadata": {
        "id": "SEalcwj1USVb"
      },
      "source": [
        "Dates=['May 15 2020','June 29 2020','July 29 2020','Aug 27 2020','Sept 27 2020','october 30 2020','November 30 2020','Dec 27 2020','Jan 31 2021','Feb 28 2020','March 25 2021','April 27 2021']"
      ],
      "execution_count": null,
      "outputs": []
    },
    {
      "cell_type": "code",
      "metadata": {
        "id": "DNKbakyAUUtv"
      },
      "source": [
        "Recovered=[158056,567536,1532135,6143019,8182882,9432075,10267263,10677710,10758619,11112056,11733514,17988537]"
      ],
      "execution_count": null,
      "outputs": []
    },
    {
      "cell_type": "code",
      "metadata": {
        "id": "X8wg_94PUW3f"
      },
      "source": [
        "fig2 =go.Figure(data=go.Scatter(x=Dates,y=Recovered))"
      ],
      "execution_count": null,
      "outputs": []
    },
    {
      "cell_type": "code",
      "metadata": {
        "id": "S13w1ijUUaDC"
      },
      "source": [
        "fig2.show()"
      ],
      "execution_count": null,
      "outputs": []
    }
  ]
}